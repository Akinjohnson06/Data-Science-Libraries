{
 "cells": [
  {
   "cell_type": "code",
   "execution_count": 1,
   "id": "3aac77d4",
   "metadata": {},
   "outputs": [],
   "source": [
    "import numpy as np"
   ]
  },
  {
   "cell_type": "markdown",
   "id": "e8a40f4e",
   "metadata": {},
   "source": [
    "An array is defined as a collection of items that are stored at a contiguous memory locations. It is a container which holds a fixed number of items, and these items should be of the same type.\n",
    "\n",
    "A combination of arrays saves a lot of time. The array can be reduce the overall size of the code"
   ]
  },
  {
   "cell_type": "markdown",
   "id": "076dba3d",
   "metadata": {},
   "source": [
    "# How to create an array"
   ]
  },
  {
   "cell_type": "code",
   "execution_count": 5,
   "id": "25aed6f5",
   "metadata": {},
   "outputs": [
    {
     "data": {
      "text/plain": [
       "array([1, 2, 3, 4])"
      ]
     },
     "execution_count": 5,
     "metadata": {},
     "output_type": "execute_result"
    }
   ],
   "source": [
    "arr = np.array([1,2,3,4])\n",
    "arr"
   ]
  },
  {
   "cell_type": "code",
   "execution_count": 4,
   "id": "8666f489",
   "metadata": {},
   "outputs": [
    {
     "data": {
      "text/plain": [
       "numpy.ndarray"
      ]
     },
     "execution_count": 4,
     "metadata": {},
     "output_type": "execute_result"
    }
   ],
   "source": [
    "type(arr)"
   ]
  },
  {
   "cell_type": "code",
   "execution_count": 6,
   "id": "89293447",
   "metadata": {},
   "outputs": [
    {
     "data": {
      "text/plain": [
       "array([1. , 2. , 3. , 4. , 5.6])"
      ]
     },
     "execution_count": 6,
     "metadata": {},
     "output_type": "execute_result"
    }
   ],
   "source": [
    "# adding another datatype1\n",
    "arr_1 = np.array([1,2,3,4,5.6]) # i added a float in this array\n",
    "arr_1 # judging from the result, it converted everything to floats"
   ]
  },
  {
   "cell_type": "code",
   "execution_count": 45,
   "id": "68f59d3c",
   "metadata": {},
   "outputs": [
    {
     "data": {
      "text/plain": [
       "array(['1', '2', '3', '4', 'One'], dtype='<U11')"
      ]
     },
     "execution_count": 45,
     "metadata": {},
     "output_type": "execute_result"
    }
   ],
   "source": [
    "# adding another datatype2\n",
    "arr_1_1 = np.array([1,2,3,4,'One']) # i added a string in this array\n",
    "arr_1_1# judging from the result, it converted everything to strings"
   ]
  },
  {
   "cell_type": "code",
   "execution_count": 9,
   "id": "51c4f3c3",
   "metadata": {},
   "outputs": [
    {
     "data": {
      "text/plain": [
       "array([[1, 2, 3, 4],\n",
       "       [5, 6, 7, 8]])"
      ]
     },
     "execution_count": 9,
     "metadata": {},
     "output_type": "execute_result"
    }
   ],
   "source": [
    "# adding two list to form a matrics\n",
    "arr_2 = np.array([[1,2,3,4],[5,6,7,8]])\n",
    "arr_2"
   ]
  },
  {
   "cell_type": "code",
   "execution_count": 10,
   "id": "1b14c589",
   "metadata": {},
   "outputs": [
    {
     "data": {
      "text/plain": [
       "array([[1, 2, 3, 4],\n",
       "       [5, 6, 7, 8],\n",
       "       [1, 3, 5, 7]])"
      ]
     },
     "execution_count": 10,
     "metadata": {},
     "output_type": "execute_result"
    }
   ],
   "source": [
    "# adding two list to form a matrics\n",
    "arr_2_1 = np.array([[1,2,3,4],[5,6,7,8],[1,3,5,7]])\n",
    "arr_2_1"
   ]
  },
  {
   "cell_type": "markdown",
   "id": "dd94d902",
   "metadata": {},
   "source": [
    "# slicing and attributes"
   ]
  },
  {
   "cell_type": "code",
   "execution_count": 12,
   "id": "8be02371",
   "metadata": {},
   "outputs": [
    {
     "data": {
      "text/plain": [
       "array([1, 2])"
      ]
     },
     "execution_count": 12,
     "metadata": {},
     "output_type": "execute_result"
    }
   ],
   "source": [
    "arr = np.array([1,2,3,4])\n",
    "arr[0:2]"
   ]
  },
  {
   "cell_type": "code",
   "execution_count": 13,
   "id": "d1e554cf",
   "metadata": {},
   "outputs": [
    {
     "data": {
      "text/plain": [
       "array([1, 2])"
      ]
     },
     "execution_count": 13,
     "metadata": {},
     "output_type": "execute_result"
    }
   ],
   "source": [
    "arr = np.array([1,2,3,4])\n",
    "arr[:2]"
   ]
  },
  {
   "cell_type": "code",
   "execution_count": 14,
   "id": "96741af7",
   "metadata": {},
   "outputs": [
    {
     "data": {
      "text/plain": [
       "array([3, 4])"
      ]
     },
     "execution_count": 14,
     "metadata": {},
     "output_type": "execute_result"
    }
   ],
   "source": [
    "arr = np.array([1,2,3,4])\n",
    "arr[2:]"
   ]
  },
  {
   "cell_type": "code",
   "execution_count": 15,
   "id": "99626681",
   "metadata": {},
   "outputs": [
    {
     "data": {
      "text/plain": [
       "array([1, 2, 3, 4])"
      ]
     },
     "execution_count": 15,
     "metadata": {},
     "output_type": "execute_result"
    }
   ],
   "source": [
    "arr = np.array([1,2,3,4])\n",
    "arr[::]"
   ]
  },
  {
   "cell_type": "code",
   "execution_count": 16,
   "id": "8a39bcdb",
   "metadata": {},
   "outputs": [
    {
     "data": {
      "text/plain": [
       "array([1, 3])"
      ]
     },
     "execution_count": 16,
     "metadata": {},
     "output_type": "execute_result"
    }
   ],
   "source": [
    "arr = np.array([1,2,3,4])\n",
    "arr[::2]"
   ]
  },
  {
   "cell_type": "code",
   "execution_count": 19,
   "id": "99fe822a",
   "metadata": {},
   "outputs": [
    {
     "data": {
      "text/plain": [
       "array([4, 3, 2, 1])"
      ]
     },
     "execution_count": 19,
     "metadata": {},
     "output_type": "execute_result"
    }
   ],
   "source": [
    "arr = np.array([1,2,3,4])\n",
    "arr[::-1]"
   ]
  },
  {
   "cell_type": "code",
   "execution_count": 22,
   "id": "c5d9e2ab",
   "metadata": {},
   "outputs": [
    {
     "data": {
      "text/plain": [
       "array([5, 6, 7, 8])"
      ]
     },
     "execution_count": 22,
     "metadata": {},
     "output_type": "execute_result"
    }
   ],
   "source": [
    "arr_2 = np.array([[1,2,3,4],[5,6,7,8]])\n",
    "arr_2[1]"
   ]
  },
  {
   "cell_type": "code",
   "execution_count": 23,
   "id": "0109b276",
   "metadata": {},
   "outputs": [
    {
     "data": {
      "text/plain": [
       "array([[1, 2],\n",
       "       [5, 6]])"
      ]
     },
     "execution_count": 23,
     "metadata": {},
     "output_type": "execute_result"
    }
   ],
   "source": [
    "arr_2 = np.array([[1,2,3,4],[5,6,7,8]])\n",
    "arr_2[0:2,0:2]"
   ]
  },
  {
   "cell_type": "code",
   "execution_count": 29,
   "id": "fe1e8457",
   "metadata": {},
   "outputs": [
    {
     "data": {
      "text/plain": [
       "array([5, 6, 7])"
      ]
     },
     "execution_count": 29,
     "metadata": {},
     "output_type": "execute_result"
    }
   ],
   "source": [
    "arr_2 = np.array([[1,2,3,4],[5,6,7,8]])\n",
    "arr_2[1, 0:3]"
   ]
  },
  {
   "cell_type": "code",
   "execution_count": 32,
   "id": "7e688834",
   "metadata": {},
   "outputs": [
    {
     "data": {
      "text/plain": [
       "array([1, 3])"
      ]
     },
     "execution_count": 32,
     "metadata": {},
     "output_type": "execute_result"
    }
   ],
   "source": [
    "arr_2_1 = np.array([[1,2,3,4],[5,6,7,8],[1,3,5,7]])\n",
    "arr_2_1[2, 0:2]"
   ]
  },
  {
   "cell_type": "code",
   "execution_count": 35,
   "id": "706ecad0",
   "metadata": {},
   "outputs": [
    {
     "data": {
      "text/plain": [
       "(3, 4)"
      ]
     },
     "execution_count": 35,
     "metadata": {},
     "output_type": "execute_result"
    }
   ],
   "source": [
    "#ATTRIBUTES\n",
    "# shape give the number of rows and column in an array\n",
    "np.shape(arr_2_1)\n",
    "# result means 3 rows and 4 columns"
   ]
  },
  {
   "cell_type": "code",
   "execution_count": 36,
   "id": "4f47927d",
   "metadata": {},
   "outputs": [
    {
     "data": {
      "text/plain": [
       "(2, 4)"
      ]
     },
     "execution_count": 36,
     "metadata": {},
     "output_type": "execute_result"
    }
   ],
   "source": [
    "np.shape(arr_2)"
   ]
  },
  {
   "cell_type": "code",
   "execution_count": 37,
   "id": "b8df8253",
   "metadata": {},
   "outputs": [
    {
     "data": {
      "text/plain": [
       "12"
      ]
     },
     "execution_count": 37,
     "metadata": {},
     "output_type": "execute_result"
    }
   ],
   "source": [
    "# size gives the total elements\n",
    "np.size(arr_2_1)"
   ]
  },
  {
   "cell_type": "code",
   "execution_count": 38,
   "id": "28083710",
   "metadata": {},
   "outputs": [
    {
     "data": {
      "text/plain": [
       "8"
      ]
     },
     "execution_count": 38,
     "metadata": {},
     "output_type": "execute_result"
    }
   ],
   "source": [
    "np.size(arr_2)"
   ]
  },
  {
   "cell_type": "code",
   "execution_count": 39,
   "id": "53c71712",
   "metadata": {},
   "outputs": [
    {
     "data": {
      "text/plain": [
       "2"
      ]
     },
     "execution_count": 39,
     "metadata": {},
     "output_type": "execute_result"
    }
   ],
   "source": [
    "# dimensions\n",
    "np.ndim(arr_2_1)"
   ]
  },
  {
   "cell_type": "code",
   "execution_count": 40,
   "id": "987fa009",
   "metadata": {},
   "outputs": [
    {
     "data": {
      "text/plain": [
       "2"
      ]
     },
     "execution_count": 40,
     "metadata": {},
     "output_type": "execute_result"
    }
   ],
   "source": [
    "np.ndim(arr_2)"
   ]
  },
  {
   "cell_type": "code",
   "execution_count": 47,
   "id": "b1c2750c",
   "metadata": {},
   "outputs": [
    {
     "data": {
      "text/plain": [
       "dtype('int32')"
      ]
     },
     "execution_count": 47,
     "metadata": {},
     "output_type": "execute_result"
    }
   ],
   "source": [
    "# datatype of an array\n",
    "arr.dtype"
   ]
  },
  {
   "cell_type": "markdown",
   "id": "0137a60d",
   "metadata": {},
   "source": [
    "# Python List VS Numpy arrays"
   ]
  },
  {
   "cell_type": "markdown",
   "id": "0e02725e",
   "metadata": {},
   "source": [
    "### NUMPY\n",
    "- a list cannot directly handle mathematical operation, while arrays can\n",
    "- An array consumes less space\n",
    "- Using arrays are faster than list\n",
    "- a list can stor different data types while arrays cannot\n",
    "\n",
    "### LIST\n",
    "- a list is easier to modify since a list stores each elements individually, it is easier to add and delete an element than an array does\n",
    "- in one can have nested data with different size, while you cannot do that in array"
   ]
  },
  {
   "cell_type": "markdown",
   "id": "b157131b",
   "metadata": {},
   "source": [
    "# Creating an array using Numpy Functions"
   ]
  },
  {
   "cell_type": "code",
   "execution_count": 53,
   "id": "e0e8e800",
   "metadata": {},
   "outputs": [
    {
     "data": {
      "text/plain": [
       "array([ 1.,  2.,  3.,  4.,  5.,  6.,  7.,  8.,  9., 10.])"
      ]
     },
     "execution_count": 53,
     "metadata": {},
     "output_type": "execute_result"
    }
   ],
   "source": [
    "#ARRANGE FUNCTION\n",
    "#format=[START][STOP][STEP][DTYPE]\n",
    "arr = np.arange(1,11,1,dtype=float)\n",
    "arr"
   ]
  },
  {
   "cell_type": "code",
   "execution_count": 54,
   "id": "77ead0d6",
   "metadata": {},
   "outputs": [
    {
     "data": {
      "text/plain": [
       "array([ 1,  2,  3,  4,  5,  6,  7,  8,  9, 10])"
      ]
     },
     "execution_count": 54,
     "metadata": {},
     "output_type": "execute_result"
    }
   ],
   "source": [
    "arr = np.arange(1,11,1,dtype=int)\n",
    "arr"
   ]
  },
  {
   "cell_type": "code",
   "execution_count": 55,
   "id": "74b43b71",
   "metadata": {},
   "outputs": [
    {
     "data": {
      "text/plain": [
       "array([ 1,  2,  3,  4,  5,  6,  7,  8,  9, 10])"
      ]
     },
     "execution_count": 55,
     "metadata": {},
     "output_type": "execute_result"
    }
   ],
   "source": [
    "arr = np.arange(1,11)\n",
    "arr"
   ]
  },
  {
   "cell_type": "code",
   "execution_count": 57,
   "id": "fb2890d1",
   "metadata": {},
   "outputs": [
    {
     "data": {
      "text/plain": [
       "array([1, 3, 5, 7, 9])"
      ]
     },
     "execution_count": 57,
     "metadata": {},
     "output_type": "execute_result"
    }
   ],
   "source": [
    "arr = np.arange(1,11,2)\n",
    "arr"
   ]
  },
  {
   "cell_type": "code",
   "execution_count": 60,
   "id": "4e1e6eb7",
   "metadata": {},
   "outputs": [
    {
     "data": {
      "text/plain": [
       "array([[0., 0.],\n",
       "       [0., 0.]])"
      ]
     },
     "execution_count": 60,
     "metadata": {},
     "output_type": "execute_result"
    }
   ],
   "source": [
    "#ZERO FUNCTION\n",
    "#format=[nRows][ncolumns][dtype]\n",
    "arr = np.zeros((2,2))\n",
    "arr"
   ]
  },
  {
   "cell_type": "code",
   "execution_count": 64,
   "id": "8cd970d4",
   "metadata": {},
   "outputs": [
    {
     "data": {
      "text/plain": [
       "array([[0., 0.],\n",
       "       [0., 0.],\n",
       "       [0., 0.],\n",
       "       [0., 0.]])"
      ]
     },
     "execution_count": 64,
     "metadata": {},
     "output_type": "execute_result"
    }
   ],
   "source": [
    "arr = np.zeros((4,2), dtype=float)\n",
    "arr"
   ]
  },
  {
   "cell_type": "code",
   "execution_count": 65,
   "id": "808790ec",
   "metadata": {},
   "outputs": [
    {
     "data": {
      "text/plain": [
       "array([[1., 1.],\n",
       "       [1., 1.]])"
      ]
     },
     "execution_count": 65,
     "metadata": {},
     "output_type": "execute_result"
    }
   ],
   "source": [
    "#ONES FUNCTION\n",
    "#format=[nRows][ncolumns][dtype]\n",
    "arr = np.ones((2,2))\n",
    "arr"
   ]
  },
  {
   "cell_type": "code",
   "execution_count": 67,
   "id": "ffcd7040",
   "metadata": {},
   "outputs": [
    {
     "data": {
      "text/plain": [
       "array([[1., 1., 1., 1., 1., 1., 1., 1., 1., 1.],\n",
       "       [1., 1., 1., 1., 1., 1., 1., 1., 1., 1.],\n",
       "       [1., 1., 1., 1., 1., 1., 1., 1., 1., 1.],\n",
       "       [1., 1., 1., 1., 1., 1., 1., 1., 1., 1.]])"
      ]
     },
     "execution_count": 67,
     "metadata": {},
     "output_type": "execute_result"
    }
   ],
   "source": [
    "arr = np.ones((4,10), dtype=float)\n",
    "arr"
   ]
  },
  {
   "cell_type": "code",
   "execution_count": 72,
   "id": "342a2f6a",
   "metadata": {},
   "outputs": [
    {
     "data": {
      "text/plain": [
       "array([8, 8, 8, 8, 8, 8, 8, 8, 8, 8])"
      ]
     },
     "execution_count": 72,
     "metadata": {},
     "output_type": "execute_result"
    }
   ],
   "source": [
    "#FULL FUNCTION\n",
    "#format=[shape][full_value][dtype]\n",
    "arr = np.full(10, 8)\n",
    "arr"
   ]
  },
  {
   "cell_type": "code",
   "execution_count": 73,
   "id": "5d8a17af",
   "metadata": {},
   "outputs": [
    {
     "data": {
      "text/plain": [
       "array([[8, 8],\n",
       "       [8, 8]])"
      ]
     },
     "execution_count": 73,
     "metadata": {},
     "output_type": "execute_result"
    }
   ],
   "source": [
    "arr = np.full((2,2), 8)\n",
    "arr"
   ]
  },
  {
   "cell_type": "code",
   "execution_count": 74,
   "id": "bd5429a7",
   "metadata": {},
   "outputs": [
    {
     "data": {
      "text/plain": [
       "array([[8, 8],\n",
       "       [8, 8],\n",
       "       [8, 8],\n",
       "       [8, 8],\n",
       "       [8, 8],\n",
       "       [8, 8],\n",
       "       [8, 8],\n",
       "       [8, 8],\n",
       "       [8, 8],\n",
       "       [8, 8]])"
      ]
     },
     "execution_count": 74,
     "metadata": {},
     "output_type": "execute_result"
    }
   ],
   "source": [
    "arr = np.full((10,2), 8, dtype=int)\n",
    "arr"
   ]
  },
  {
   "cell_type": "code",
   "execution_count": 80,
   "id": "e88101a7",
   "metadata": {},
   "outputs": [
    {
     "data": {
      "text/plain": [
       "array([[1, 2, 3],\n",
       "       [4, 5, 6],\n",
       "       [7, 8, 9]])"
      ]
     },
     "execution_count": 80,
     "metadata": {},
     "output_type": "execute_result"
    }
   ],
   "source": [
    "#RESHAPE FUNCTION\n",
    "#format= [nRows][ncolumns][dtype]\n",
    "arr = np.arange(1,10,1,dtype=int).reshape(3,3)\n",
    "arr"
   ]
  },
  {
   "cell_type": "code",
   "execution_count": 83,
   "id": "cd5d5b70",
   "metadata": {},
   "outputs": [
    {
     "data": {
      "text/plain": [
       "array([[0, 1, 2, 3, 4],\n",
       "       [5, 6, 7, 8, 9]])"
      ]
     },
     "execution_count": 83,
     "metadata": {},
     "output_type": "execute_result"
    }
   ],
   "source": [
    "arr = np.arange(10).reshape(2,5)\n",
    "arr"
   ]
  },
  {
   "cell_type": "code",
   "execution_count": 84,
   "id": "4c2c1302",
   "metadata": {},
   "outputs": [
    {
     "data": {
      "text/plain": [
       "array([[0, 1],\n",
       "       [2, 3],\n",
       "       [4, 5],\n",
       "       [6, 7],\n",
       "       [8, 9]])"
      ]
     },
     "execution_count": 84,
     "metadata": {},
     "output_type": "execute_result"
    }
   ],
   "source": [
    "arr = np.arange(10).reshape(5,2)\n",
    "arr"
   ]
  },
  {
   "cell_type": "code",
   "execution_count": 89,
   "id": "28218d2f",
   "metadata": {},
   "outputs": [
    {
     "data": {
      "text/plain": [
       "array([50, 50, 50, 50, 50, 50, 50, 50, 50, 50])"
      ]
     },
     "execution_count": 89,
     "metadata": {},
     "output_type": "execute_result"
    }
   ],
   "source": [
    "#REPEAT FUNCTION\n",
    "#format= [value][ntimes][dtype]\n",
    "arr = np.repeat(50,10)\n",
    "arr"
   ]
  },
  {
   "cell_type": "code",
   "execution_count": 91,
   "id": "ab6d64d9",
   "metadata": {},
   "outputs": [
    {
     "data": {
      "text/plain": [
       "array([50, 50, 50, 50, 50, 50, 50, 50, 50, 50])"
      ]
     },
     "execution_count": 91,
     "metadata": {},
     "output_type": "execute_result"
    }
   ],
   "source": [
    "arr = np.repeat(50,10)\n",
    "arr"
   ]
  },
  {
   "cell_type": "code",
   "execution_count": 92,
   "id": "75481785",
   "metadata": {},
   "outputs": [
    {
     "data": {
      "text/plain": [
       "array([[3, 3, 3, 3, 3, 2, 2, 2, 2, 2]])"
      ]
     },
     "execution_count": 92,
     "metadata": {},
     "output_type": "execute_result"
    }
   ],
   "source": [
    "arr = np.repeat([[3,2]], 5, axis=1)\n",
    "arr"
   ]
  },
  {
   "cell_type": "code",
   "execution_count": 93,
   "id": "e8f4c8d7",
   "metadata": {},
   "outputs": [
    {
     "data": {
      "text/plain": [
       "array([[3, 2],\n",
       "       [3, 2],\n",
       "       [3, 2],\n",
       "       [3, 2],\n",
       "       [3, 2]])"
      ]
     },
     "execution_count": 93,
     "metadata": {},
     "output_type": "execute_result"
    }
   ],
   "source": [
    "arr = np.repeat([[3,2]], 5, axis=0)\n",
    "arr"
   ]
  },
  {
   "cell_type": "code",
   "execution_count": 95,
   "id": "4fdb8b30",
   "metadata": {},
   "outputs": [
    {
     "data": {
      "text/plain": [
       "array([ 1,  2,  3,  4,  5,  6,  7,  8,  9, 10])"
      ]
     },
     "execution_count": 95,
     "metadata": {},
     "output_type": "execute_result"
    }
   ],
   "source": [
    "#CONCATENATE FUNCTION\n",
    "#format= [value][ntimes][dtype]\n",
    "arr = np.array([1,2,3,4,5])\n",
    "arr1= np.array([6,7,8,9,10])\n",
    "\n",
    "c = np.concatenate([arr,arr1])\n",
    "c"
   ]
  },
  {
   "cell_type": "code",
   "execution_count": 97,
   "id": "e32f7156",
   "metadata": {},
   "outputs": [
    {
     "data": {
      "text/plain": [
       "array([[ 1,  2,  3,  4,  5],\n",
       "       [ 2,  4,  6,  8, 10],\n",
       "       [ 6,  7,  8,  9, 10],\n",
       "       [ 1,  3,  5,  7,  9]])"
      ]
     },
     "execution_count": 97,
     "metadata": {},
     "output_type": "execute_result"
    }
   ],
   "source": [
    "arr = np.array([[1,2,3,4,5],[2,4,6,8,10]])\n",
    "arr1= np.array([[6,7,8,9,10],[1,3,5,7,9]])\n",
    "\n",
    "c = np.concatenate([arr,arr1])\n",
    "c"
   ]
  },
  {
   "cell_type": "code",
   "execution_count": 99,
   "id": "4409bf2b",
   "metadata": {},
   "outputs": [
    {
     "data": {
      "text/plain": [
       "array([[ 1,  2,  3,  4,  5,  6,  7,  8,  9, 10],\n",
       "       [ 2,  4,  6,  8, 10,  1,  3,  5,  7,  9]])"
      ]
     },
     "execution_count": 99,
     "metadata": {},
     "output_type": "execute_result"
    }
   ],
   "source": [
    "arr = np.array([[1,2,3,4,5],[2,4,6,8,10]])\n",
    "arr1= np.array([[6,7,8,9,10],[1,3,5,7,9]])\n",
    "\n",
    "c = np.concatenate([arr,arr1],axis=1)\n",
    "c"
   ]
  },
  {
   "cell_type": "code",
   "execution_count": 103,
   "id": "5342c792",
   "metadata": {},
   "outputs": [
    {
     "data": {
      "text/plain": [
       "array([[ 1,  2,  3,  4,  5],\n",
       "       [ 2,  4,  6,  8, 10],\n",
       "       [ 6,  7,  8,  9, 10],\n",
       "       [ 1,  3,  5,  7,  9]])"
      ]
     },
     "execution_count": 103,
     "metadata": {},
     "output_type": "execute_result"
    }
   ],
   "source": [
    "# V-STACK AND H-STACK\n",
    "arr = np.array([[1,2,3,4,5],[2,4,6,8,10]])\n",
    "arr1= np.array([[6,7,8,9,10],[1,3,5,7,9]])\n",
    "\n",
    "v = np.vstack([arr,arr1])\n",
    "v"
   ]
  },
  {
   "cell_type": "code",
   "execution_count": 104,
   "id": "f8fd84c7",
   "metadata": {},
   "outputs": [
    {
     "data": {
      "text/plain": [
       "array([[ 1,  2,  3,  4,  5,  6,  7,  8,  9, 10],\n",
       "       [ 2,  4,  6,  8, 10,  1,  3,  5,  7,  9]])"
      ]
     },
     "execution_count": 104,
     "metadata": {},
     "output_type": "execute_result"
    }
   ],
   "source": [
    "h = np.hstack([arr,arr1])\n",
    "h"
   ]
  },
  {
   "cell_type": "code",
   "execution_count": 112,
   "id": "5d944850",
   "metadata": {},
   "outputs": [
    {
     "name": "stdout",
     "output_type": "stream",
     "text": [
      "[1 2 3 4]\n",
      "[ 1  4  9 16]\n"
     ]
    }
   ],
   "source": [
    "#POWER FUNCTION\n",
    "#format=[VARIABLE][POWER]\n",
    "arr = np.array([1,2,3,4])\n",
    "power = np.power(arr, [2])\n",
    "\n",
    "print(arr)\n",
    "print(power)"
   ]
  },
  {
   "cell_type": "code",
   "execution_count": 113,
   "id": "ecf901cb",
   "metadata": {},
   "outputs": [
    {
     "name": "stdout",
     "output_type": "stream",
     "text": [
      "[1 2 3 4]\n",
      "[ 1  4 81 64]\n"
     ]
    }
   ],
   "source": [
    "arr = np.array([1,2,3,4])\n",
    "power = np.power(arr, [2,2,4,3]) #specify different powers for each number\n",
    "\n",
    "print(arr)\n",
    "print(power)"
   ]
  },
  {
   "cell_type": "code",
   "execution_count": 115,
   "id": "d525a224",
   "metadata": {},
   "outputs": [
    {
     "name": "stdout",
     "output_type": "stream",
     "text": [
      "[1 2 3 4]\n",
      "[1 1 1]\n",
      "[2 2 2]\n"
     ]
    }
   ],
   "source": [
    "#DIFF FUNCTION - also means difference\n",
    "\n",
    "arr = np.array([1,2,3,4]) #2-1, 3-2, 4-3\n",
    "arr1 = np.array([2,4,6,8]) # 4-2, 6-4, 8-6\n",
    "\n",
    "diff = np.diff(arr)\n",
    "diff1 = np.diff(arr1)\n",
    "\n",
    "print(arr)\n",
    "print(diff)\n",
    "print(diff1)"
   ]
  },
  {
   "cell_type": "code",
   "execution_count": 116,
   "id": "c4dd1555",
   "metadata": {},
   "outputs": [
    {
     "name": "stdout",
     "output_type": "stream",
     "text": [
      "[2 4 6 8]\n",
      "[2 2 2]\n",
      "[ 4 -3  7]\n"
     ]
    }
   ],
   "source": [
    "arr = np.array([2,4,6,8]) #4-2, 6-4, 8-6\n",
    "arr1 = np.array([1,5,2,9]) # 5-1, 2-5, 9-2\n",
    "\n",
    "diff = np.diff(arr)\n",
    "diff1 = np.diff(arr1)\n",
    "\n",
    "print(arr)\n",
    "print(diff)\n",
    "print(diff1)"
   ]
  },
  {
   "cell_type": "code",
   "execution_count": 119,
   "id": "46bd80ef",
   "metadata": {},
   "outputs": [
    {
     "name": "stdout",
     "output_type": "stream",
     "text": [
      "[[-1  1 -4  1]]\n",
      "[[ 1 -1  4 -1]]\n"
     ]
    }
   ],
   "source": [
    "arr = np.array([2,4,6,8]) #4-2, 6-4, 8-6\n",
    "arr1 = np.array([1,5,2,9]) # 5-1, 2-5, 9-2\n",
    "\n",
    "diff = np.diff((arr,arr1), axis=0) # arr1 - arr\n",
    "diff1 = np.diff((arr1,arr), axis=0)# arr- arr1\n",
    "\n",
    "print(diff)\n",
    "print(diff1)"
   ]
  },
  {
   "cell_type": "code",
   "execution_count": 121,
   "id": "7dacf9ab",
   "metadata": {},
   "outputs": [
    {
     "data": {
      "text/plain": [
       "array(6)"
      ]
     },
     "execution_count": 121,
     "metadata": {},
     "output_type": "execute_result"
    }
   ],
   "source": [
    "#CROSS FUNCTION\n",
    "\n",
    "arr = np.array([2,4]) \n",
    "arr1 = np.array([1,5])\n",
    "\n",
    "# basically the calculation is ((2*5)-(4*1)) \n",
    "\n",
    "c = np.cross(arr,arr1)\n",
    "c"
   ]
  },
  {
   "cell_type": "code",
   "execution_count": 126,
   "id": "03bb0b6c",
   "metadata": {},
   "outputs": [
    {
     "data": {
      "text/plain": [
       "array([[ 2,  6,  8, 10],\n",
       "       [ 2,  5,  7,  9]])"
      ]
     },
     "execution_count": 126,
     "metadata": {},
     "output_type": "execute_result"
    }
   ],
   "source": [
    "#SORT FUNCTION\n",
    "\n",
    "arr = np.array([6,2,10,8]) \n",
    "arr1 = np.array([7,5,2,9])\n",
    "\n",
    "s = np.sort((arr,arr1))\n",
    "s"
   ]
  },
  {
   "cell_type": "code",
   "execution_count": 127,
   "id": "d8a3a1d7",
   "metadata": {},
   "outputs": [
    {
     "name": "stdout",
     "output_type": "stream",
     "text": [
      "[ 6  2 10  8]\n",
      "[7 5 2 9]\n"
     ]
    },
    {
     "data": {
      "text/plain": [
       "array([[ 2,  6,  8, 10],\n",
       "       [ 2,  5,  7,  9]])"
      ]
     },
     "execution_count": 127,
     "metadata": {},
     "output_type": "execute_result"
    }
   ],
   "source": [
    "arr = np.array([6,2,10,8]) \n",
    "arr1 = np.array([7,5,2,9])\n",
    "\n",
    "print(arr)\n",
    "print(arr1)\n",
    "s = np.sort((arr,arr1))\n",
    "s"
   ]
  },
  {
   "cell_type": "code",
   "execution_count": null,
   "id": "a193a949",
   "metadata": {},
   "outputs": [],
   "source": []
  },
  {
   "cell_type": "code",
   "execution_count": null,
   "id": "a1fd4003",
   "metadata": {},
   "outputs": [],
   "source": []
  },
  {
   "cell_type": "code",
   "execution_count": null,
   "id": "8a4b170c",
   "metadata": {},
   "outputs": [],
   "source": []
  },
  {
   "cell_type": "code",
   "execution_count": null,
   "id": "629e5f2c",
   "metadata": {},
   "outputs": [],
   "source": []
  },
  {
   "cell_type": "code",
   "execution_count": null,
   "id": "32d439c4",
   "metadata": {},
   "outputs": [],
   "source": []
  },
  {
   "cell_type": "code",
   "execution_count": null,
   "id": "05a503fd",
   "metadata": {},
   "outputs": [],
   "source": []
  },
  {
   "cell_type": "code",
   "execution_count": null,
   "id": "e3cebd38",
   "metadata": {},
   "outputs": [],
   "source": []
  },
  {
   "cell_type": "code",
   "execution_count": null,
   "id": "24ebd586",
   "metadata": {},
   "outputs": [],
   "source": []
  },
  {
   "cell_type": "code",
   "execution_count": null,
   "id": "1a44c01d",
   "metadata": {},
   "outputs": [],
   "source": []
  },
  {
   "cell_type": "code",
   "execution_count": null,
   "id": "266d9826",
   "metadata": {},
   "outputs": [],
   "source": []
  },
  {
   "cell_type": "code",
   "execution_count": null,
   "id": "3a00408d",
   "metadata": {},
   "outputs": [],
   "source": []
  },
  {
   "cell_type": "code",
   "execution_count": null,
   "id": "a4e975fe",
   "metadata": {},
   "outputs": [],
   "source": []
  },
  {
   "cell_type": "code",
   "execution_count": null,
   "id": "3c606613",
   "metadata": {},
   "outputs": [],
   "source": []
  },
  {
   "cell_type": "code",
   "execution_count": null,
   "id": "b1d2a79f",
   "metadata": {},
   "outputs": [],
   "source": []
  },
  {
   "cell_type": "code",
   "execution_count": null,
   "id": "e6317596",
   "metadata": {},
   "outputs": [],
   "source": []
  }
 ],
 "metadata": {
  "kernelspec": {
   "display_name": "Python 3 (ipykernel)",
   "language": "python",
   "name": "python3"
  },
  "language_info": {
   "codemirror_mode": {
    "name": "ipython",
    "version": 3
   },
   "file_extension": ".py",
   "mimetype": "text/x-python",
   "name": "python",
   "nbconvert_exporter": "python",
   "pygments_lexer": "ipython3",
   "version": "3.11.4"
  }
 },
 "nbformat": 4,
 "nbformat_minor": 5
}
